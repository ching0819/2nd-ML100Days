{
 "cells": [
  {
   "cell_type": "markdown",
   "metadata": {},
   "source": [
    "## Work\n",
    "1. 試改變 monitor \"Validation Accuracy\" 並比較結果\n",
    "2. 調整 earlystop 的等待次數至 10, 25 並比較結果"
   ]
  },
  {
   "cell_type": "code",
   "execution_count": 1,
   "metadata": {
    "collapsed": false
   },
   "outputs": [
    {
     "name": "stderr",
     "output_type": "stream",
     "text": [
      "Using TensorFlow backend.\n"
     ]
    }
   ],
   "source": [
    "import os\n",
    "import keras\n",
    "import matplotlib.pyplot as plt\n",
    "%matplotlib inline\n",
    "\n",
    "\n",
    "# Disable GPU\n",
    "os.environ[\"CUDA_VISIBLE_DEVICES\"] = \"\""
   ]
  },
  {
   "cell_type": "code",
   "execution_count": 2,
   "metadata": {
    "collapsed": true
   },
   "outputs": [],
   "source": [
    "train, test = keras.datasets.cifar10.load_data()"
   ]
  },
  {
   "cell_type": "code",
   "execution_count": 3,
   "metadata": {
    "collapsed": true
   },
   "outputs": [],
   "source": [
    "## 資料前處理\n",
    "def preproc_x(x, flatten=True):\n",
    "    x = x / 255.\n",
    "    if flatten:\n",
    "        x = x.reshape((len(x), -1))\n",
    "    return x\n",
    "\n",
    "def preproc_y(y, num_classes=10):\n",
    "    if y.shape[-1] == 1:\n",
    "        y = keras.utils.to_categorical(y, num_classes)\n",
    "    return y    "
   ]
  },
  {
   "cell_type": "code",
   "execution_count": 4,
   "metadata": {
    "collapsed": true
   },
   "outputs": [],
   "source": [
    "x_train, y_train = train\n",
    "x_test, y_test = test\n",
    "\n",
    "# Preproc the inputs\n",
    "x_train = preproc_x(x_train)\n",
    "x_test = preproc_x(x_test)\n",
    "\n",
    "# Preprc the outputs\n",
    "y_train = preproc_y(y_train)\n",
    "y_test = preproc_y(y_test)"
   ]
  },
  {
   "cell_type": "code",
   "execution_count": 5,
   "metadata": {
    "collapsed": false
   },
   "outputs": [],
   "source": [
    "from keras.layers import BatchNormalization\n",
    "def build_mlp(input_shape, output_units=10, num_neurons=[512, 256, 128]):\n",
    "    input_layer = keras.layers.Input(input_shape)\n",
    "    \n",
    "    for i, n_units in enumerate(num_neurons):\n",
    "        if i == 0:\n",
    "            x = keras.layers.Dense(units=n_units, \n",
    "                                   activation=\"relu\", \n",
    "                                   name=\"hidden_layer\"+str(i+1))(input_layer)\n",
    "            x = BatchNormalization()(x)\n",
    "        else:\n",
    "            x = keras.layers.Dense(units=n_units, \n",
    "                                   activation=\"relu\", \n",
    "                                   name=\"hidden_layer\"+str(i+1))(x)\n",
    "            x = BatchNormalization()(x)\n",
    "    \n",
    "    out = keras.layers.Dense(units=output_units, activation=\"softmax\", name=\"output\")(x)\n",
    "    \n",
    "    model = keras.models.Model(inputs=[input_layer], outputs=[out])\n",
    "    return model"
   ]
  },
  {
   "cell_type": "code",
   "execution_count": 6,
   "metadata": {
    "collapsed": true
   },
   "outputs": [],
   "source": [
    "\"\"\"Code Here\n",
    "設定超參數\n",
    "\"\"\"\n",
    "lr = 1e-3\n",
    "momentum = 0.95\n",
    "#Large batch size will overfit easily\n",
    "batch_size = 1024\n",
    "epochs = 20"
   ]
  },
  {
   "cell_type": "code",
   "execution_count": 7,
   "metadata": {
    "collapsed": false
   },
   "outputs": [
    {
     "name": "stdout",
     "output_type": "stream",
     "text": [
      "Train on 50000 samples, validate on 10000 samples\n",
      "Epoch 1/20\n",
      "50000/50000 [==============================] - 5s 94us/step - loss: 2.2109 - acc: 0.2721 - val_loss: 2.0781 - val_acc: 0.3200\n",
      "Epoch 2/20\n",
      "50000/50000 [==============================] - 4s 71us/step - loss: 1.7398 - acc: 0.3937 - val_loss: 1.7965 - val_acc: 0.3836\n",
      "Epoch 3/20\n",
      "50000/50000 [==============================] - 3s 68us/step - loss: 1.6128 - acc: 0.4370 - val_loss: 1.6984 - val_acc: 0.4163\n",
      "Epoch 4/20\n",
      "50000/50000 [==============================] - 4s 71us/step - loss: 1.5377 - acc: 0.4593 - val_loss: 1.6364 - val_acc: 0.4256\n",
      "Epoch 5/20\n",
      "50000/50000 [==============================] - 3s 69us/step - loss: 1.4807 - acc: 0.4827 - val_loss: 1.5998 - val_acc: 0.4400\n",
      "Epoch 6/20\n",
      "50000/50000 [==============================] - 4s 75us/step - loss: 1.4367 - acc: 0.4975 - val_loss: 1.5717 - val_acc: 0.4447\n",
      "Epoch 7/20\n",
      "50000/50000 [==============================] - 4s 74us/step - loss: 1.3967 - acc: 0.5128 - val_loss: 1.5556 - val_acc: 0.4514\n",
      "Epoch 8/20\n",
      "50000/50000 [==============================] - 4s 76us/step - loss: 1.3600 - acc: 0.5250 - val_loss: 1.5279 - val_acc: 0.4577\n",
      "Epoch 9/20\n",
      "50000/50000 [==============================] - 4s 75us/step - loss: 1.3298 - acc: 0.5372 - val_loss: 1.5262 - val_acc: 0.4652\n",
      "Epoch 10/20\n",
      "50000/50000 [==============================] - 4s 71us/step - loss: 1.3012 - acc: 0.5461 - val_loss: 1.5099 - val_acc: 0.4726\n",
      "Epoch 11/20\n",
      "50000/50000 [==============================] - 4s 72us/step - loss: 1.2732 - acc: 0.5562 - val_loss: 1.5055 - val_acc: 0.4712\n",
      "Epoch 12/20\n",
      "50000/50000 [==============================] - 3s 68us/step - loss: 1.2479 - acc: 0.5668 - val_loss: 1.4994 - val_acc: 0.4734\n",
      "Epoch 13/20\n",
      "50000/50000 [==============================] - 4s 73us/step - loss: 1.2209 - acc: 0.5760 - val_loss: 1.4868 - val_acc: 0.4782\n",
      "Epoch 14/20\n",
      "50000/50000 [==============================] - 4s 75us/step - loss: 1.1965 - acc: 0.5852 - val_loss: 1.4723 - val_acc: 0.4821\n",
      "Epoch 15/20\n",
      "50000/50000 [==============================] - 3s 70us/step - loss: 1.1739 - acc: 0.5928 - val_loss: 1.4613 - val_acc: 0.4887\n",
      "Epoch 16/20\n",
      "50000/50000 [==============================] - 4s 74us/step - loss: 1.1513 - acc: 0.6011 - val_loss: 1.4853 - val_acc: 0.4759\n",
      "Epoch 17/20\n",
      "50000/50000 [==============================] - 3s 69us/step - loss: 1.1287 - acc: 0.6099 - val_loss: 1.4859 - val_acc: 0.4822\n",
      "Epoch 18/20\n",
      "50000/50000 [==============================] - 4s 71us/step - loss: 1.1095 - acc: 0.6166 - val_loss: 1.4658 - val_acc: 0.4851\n",
      "Epoch 19/20\n",
      "50000/50000 [==============================] - 4s 75us/step - loss: 1.0886 - acc: 0.6244 - val_loss: 1.4718 - val_acc: 0.4801\n",
      "Epoch 20/20\n",
      "50000/50000 [==============================] - 3s 67us/step - loss: 1.0661 - acc: 0.6331 - val_loss: 1.4762 - val_acc: 0.4883\n",
      "Train on 50000 samples, validate on 10000 samples\n",
      "Epoch 1/20\n",
      "50000/50000 [==============================] - 5s 90us/step - loss: 2.2643 - acc: 0.2597 - val_loss: 2.0756 - val_acc: 0.3129\n",
      "Epoch 2/20\n",
      "50000/50000 [==============================] - 3s 68us/step - loss: 1.7700 - acc: 0.3870 - val_loss: 1.8449 - val_acc: 0.3698\n",
      "Epoch 3/20\n",
      "50000/50000 [==============================] - 4s 74us/step - loss: 1.6387 - acc: 0.4297 - val_loss: 1.6966 - val_acc: 0.4154\n",
      "Epoch 4/20\n",
      "50000/50000 [==============================] - 4s 71us/step - loss: 1.5617 - acc: 0.4557 - val_loss: 1.6629 - val_acc: 0.4154\n",
      "Epoch 5/20\n",
      "50000/50000 [==============================] - 4s 72us/step - loss: 1.5068 - acc: 0.4763 - val_loss: 1.6187 - val_acc: 0.4345\n",
      "Epoch 6/20\n",
      "50000/50000 [==============================] - 4s 75us/step - loss: 1.4613 - acc: 0.4920 - val_loss: 1.5929 - val_acc: 0.4392\n",
      "Epoch 7/20\n",
      "50000/50000 [==============================] - 3s 69us/step - loss: 1.4223 - acc: 0.5052 - val_loss: 1.5694 - val_acc: 0.4505\n",
      "Epoch 8/20\n",
      "50000/50000 [==============================] - 3s 70us/step - loss: 1.3835 - acc: 0.5184 - val_loss: 1.5469 - val_acc: 0.4594\n",
      "Epoch 9/20\n",
      "50000/50000 [==============================] - 3s 67us/step - loss: 1.3537 - acc: 0.5296 - val_loss: 1.5458 - val_acc: 0.4564\n",
      "Epoch 10/20\n",
      "50000/50000 [==============================] - 3s 63us/step - loss: 1.3239 - acc: 0.5412 - val_loss: 1.5323 - val_acc: 0.4614\n",
      "Epoch 11/20\n",
      "50000/50000 [==============================] - 3s 63us/step - loss: 1.2941 - acc: 0.5504 - val_loss: 1.5082 - val_acc: 0.4649\n",
      "Epoch 12/20\n",
      "50000/50000 [==============================] - 3s 64us/step - loss: 1.2665 - acc: 0.5603 - val_loss: 1.4906 - val_acc: 0.4735\n",
      "Epoch 13/20\n",
      "50000/50000 [==============================] - 3s 65us/step - loss: 1.2404 - acc: 0.5700 - val_loss: 1.4868 - val_acc: 0.4747\n",
      "Epoch 14/20\n",
      "50000/50000 [==============================] - 3s 63us/step - loss: 1.2181 - acc: 0.5793 - val_loss: 1.5125 - val_acc: 0.4690\n",
      "Epoch 15/20\n",
      "50000/50000 [==============================] - 3s 65us/step - loss: 1.1913 - acc: 0.5883 - val_loss: 1.4768 - val_acc: 0.4813\n",
      "Epoch 16/20\n",
      "50000/50000 [==============================] - 3s 64us/step - loss: 1.1689 - acc: 0.5964 - val_loss: 1.5023 - val_acc: 0.4709\n",
      "Epoch 17/20\n",
      "50000/50000 [==============================] - 3s 65us/step - loss: 1.1481 - acc: 0.6061 - val_loss: 1.4733 - val_acc: 0.4890\n",
      "Epoch 18/20\n",
      "50000/50000 [==============================] - 3s 64us/step - loss: 1.1265 - acc: 0.6132 - val_loss: 1.4675 - val_acc: 0.4829\n",
      "Epoch 19/20\n",
      "50000/50000 [==============================] - 3s 65us/step - loss: 1.1035 - acc: 0.6222 - val_loss: 1.4689 - val_acc: 0.4907\n",
      "Epoch 20/20\n",
      "50000/50000 [==============================] - 3s 65us/step - loss: 1.0844 - acc: 0.6306 - val_loss: 1.4670 - val_acc: 0.4857\n"
     ]
    }
   ],
   "source": [
    "# 載入 Callbacks\n",
    "\"\"\"Code Here\n",
    "設定 callbacks: Earlystop\n",
    "\"\"\"\n",
    "\n",
    "patiences = [10, 25]\n",
    "\n",
    "results = {}\n",
    "\"\"\"Code Here\n",
    "撰寫你的訓練流程並將結果用 dictionary 紀錄\n",
    "\"\"\"\n",
    "results = {}\n",
    "\n",
    "for patience in patiences :\n",
    "    early_stopping = keras.callbacks.EarlyStopping(monitor = \"val_acc\", patience = patience, verbose = 1)\n",
    "  \n",
    "    model = build_mlp(x_train.shape[1:], 10)\n",
    "    optimizer = keras.optimizers.SGD(lr= lr, momentum = momentum)\n",
    "    model.compile( optimizer = optimizer, loss = \"categorical_crossentropy\", metrics = [\"accuracy\"])\n",
    "  \n",
    "    history = model.fit(x_train, y_train, batch_size = batch_size, epochs = epochs, shuffle = True, \n",
    "                              validation_data = [x_test, y_test], callbacks = [early_stopping])\n",
    "  \n",
    "  \n",
    "    name_tag = \"EarlyStopping_\" + str(patience)\n",
    "    results[name_tag] = {\n",
    "      \"train_loss\" : history.history['loss'],\n",
    "      \"valid_loss\" : history.history['val_loss'],\n",
    "      \"train_acc\" : history.history[\"acc\"],\n",
    "      \"valid_acc\" :history.history[\"val_acc\"]\n",
    "    }"
   ]
  },
  {
   "cell_type": "code",
   "execution_count": 8,
   "metadata": {
    "collapsed": false
   },
   "outputs": [
    {
     "data": {
      "image/png": "[encoded data removed]",
      "text/plain": [
       "<Figure size 576x432 with 1 Axes>"
      ]
     },
     "metadata": {},
     "output_type": "display_data"
    },
    {
     "data": {
      "image/png": "[encoded data removed]",
      "text/plain": [
       "<Figure size 576x432 with 1 Axes>"
      ]
     },
     "metadata": {},
     "output_type": "display_data"
    }
   ],
   "source": [
    "import matplotlib.pyplot as plt\n",
    "%matplotlib inline\n",
    "\"\"\"Code Here\n",
    "將結果繪出\n",
    "\"\"\"\n",
    "\n",
    "plt.figure(figsize = (8,6))\n",
    "plt.plot(history.history['acc'],'-', label = \"train\", color = 'g')\n",
    "plt.plot(history.history['val_acc'],'--', label = 'valid', color = 'r')\n",
    "plt.xlabel('epochs')\n",
    "plt.ylabel('Accuracy')\n",
    "plt.title(\"Training accuracy of early stopping\")\n",
    "plt.legend()\n",
    "plt.show()\n",
    "\n",
    "plt.figure(figsize = (8,6))\n",
    "plt.plot(history.history['loss'],'-', label = \"train\", color = 'g')\n",
    "plt.plot(history.history['val_loss'],'--', label = \"valid\", color = 'r')\n",
    "plt.xlabel('epochs')\n",
    "plt.ylabel('Loss')\n",
    "plt.title(\"Training loss of early stopping\")\n",
    "plt.legend()\n",
    "plt.show()"
   ]
  }
 ],
 "metadata": {
  "anaconda-cloud": {},
  "kernelspec": {
   "display_name": "Python [default]",
   "language": "python",
   "name": "python3"
  },
  "language_info": {
   "codemirror_mode": {
    "name": "ipython",
    "version": 3
   },
   "file_extension": ".py",
   "mimetype": "text/x-python",
   "name": "python",
   "nbconvert_exporter": "python",
   "pygments_lexer": "ipython3",
   "version": "3.5.6"
  }
 },
 "nbformat": 4,
 "nbformat_minor": 2
}
