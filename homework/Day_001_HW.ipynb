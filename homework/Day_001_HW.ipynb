{
 "cells": [
  {
   "cell_type": "markdown",
   "metadata": {},
   "source": [
    "# 作業1：\n",
    "\n",
    "**請上 Kaggle, 在 Competitions 或 Dataset 中找一組競賽或資料並寫下：**  \n",
    "\n",
    "TMDB5000 \n",
    "https://www.kaggle.com/tmdb/tmdb-movie-metadata#tmdb_5000_movies.csv\n",
    "\n",
    "**1. 你選的這組資料為何重要**  \n",
    "有趣、可以幫助預測分析電影產業\n",
    "之前有用過，覺得透過有碰過的資料即進入百日馬拉松可以比較快上手\n",
    "\n",
    "**2. 資料從何而來 (tips: 譬如提供者是誰、以什麼方式蒐集)**  \n",
    "由IMDB網站抓取\n",
    "\n",
    "**3. 蒐集而來的資料型態為何**  \n",
    "csv表格：內含數值、文字\n",
    "\n",
    "**4. 這組資料想解決的問題如何評估**  \n",
    "分類問題：準確率"
   ]
  },
  {
   "cell_type": "markdown",
   "metadata": {},
   "source": [
    "# 作業2：\n",
    "\n",
    "**想像你經營一個自由載客車隊，你希望能透過數據分析以提升業績，請你思考並描述你如何規劃整體的分析/解決方案：**  \n",
    "\n",
    "**1. 核心問題為何 (tips：如何定義 「提升業績 & 你的假設」)**  \n",
    "提升載客率，以能提升業績\n",
    "1)在哪些時段能夠載到更多客人\n",
    "2)哪些天氣容易載到更多客人\n",
    "3)哪種客人的重複叫車機率高(如何經營穩定的VIP客群)\n",
    "4)透過社群宣傳效益高，還是顧客宣傳效益高，亦或者固定站點？\n",
    "\n",
    "可能還須研究乘客對於自由載客車隊、小黃、Uber的喜好\n",
    "\n",
    "**2. 資料從何而來 (tips：哪些資料可能會對你想問的問題產生影響 & 資料如何蒐集)**  \n",
    "- 每日天氣: 每時段不同天氣的載客率\n",
    "- 團隊回報: 記錄不同時段的載客率、哪些客人重複叫過車\n",
    "- 顧客服務回饋: 從何得知車隊服務、為何叫車、希望車隊改善的地方\n",
    "- 站點載客率: 若有固定站點，記錄站點載客率\n",
    "\n",
    "**3. 蒐集而來的資料型態為何**  \n",
    "有紙本，有口頭訪問，還需整理成表格\n",
    "或者網路製作網路問券\n",
    "\n",
    "**4. 你要回答的問題，其如何評估 (tips：你的假設如何驗證)**  \n",
    "時段與載客率的評估用回歸，評估準確率\n",
    "天氣、客群、顧客從何而來用分類"
   ]
  },
  {
   "cell_type": "markdown",
   "metadata": {},
   "source": [
    "---"
   ]
  },
  {
   "cell_type": "markdown",
   "metadata": {},
   "source": [
    "# 程式練習\n",
    "**請寫一個函式用來計算 Mean Square Error**\n",
    "$ MSE = \\frac{1}{n}\\sum_{i=1}^{n}{(Y_i - \\hat{Y}_i)^2} $\n",
    "\n",
    "## 練習目標\n",
    "- 仿造範例的MAE函數, 自己寫一個MSE函數(參考上面公式)\n",
    "## 練習重點\n",
    "- 注意程式的縮排\n",
    "- 能將數學公式, 轉換為 Python 的函式"
   ]
  },
  {
   "cell_type": "code",
   "execution_count": 1,
   "metadata": {},
   "outputs": [],
   "source": [
    "# 載入基礎套件與代稱\n",
    "import numpy as np\n",
    "import matplotlib.pyplot as plt"
   ]
  },
  {
   "cell_type": "code",
   "execution_count": 2,
   "metadata": {},
   "outputs": [],
   "source": [
    "def mean_absolute_error(y, yp):\n",
    "    \"\"\"\n",
    "    計算 MAE\n",
    "    Args:\n",
    "        - y: 實際值\n",
    "        - yp: 預測值\n",
    "    Return:\n",
    "        - mae: MAE\n",
    "    \"\"\"\n",
    "    mae = MAE = sum(abs(y - yp)) / len(y)\n",
    "    return mae\n",
    "\n",
    "def mean_squared_error(y,yp):\n",
    "    \"\"\"\n",
    "    計算 MSE\n",
    "    Args:\n",
    "        - y: 實際值\n",
    "        - yp: 預測值\n",
    "    Return:\n",
    "        - mse: MSE\n",
    "    \"\"\"\n",
    "    mse= MSE =np.mean((y-yp)**2) #方法一\n",
    "    #mse = sum((y - yp)**2) / len(y) #方法二\n",
    "    return mse"
   ]
  },
  {
   "cell_type": "code",
   "execution_count": 3,
   "metadata": {},
   "outputs": [
    {
     "data": {
      "image/png": "[encoded data removed]",
      "text/plain": [
       "<Figure size 432x288 with 1 Axes>"
      ]
     },
     "metadata": {
      "needs_background": "light"
     },
     "output_type": "display_data"
    }
   ],
   "source": [
    "w = 3\n",
    "b = 0.5\n",
    "\n",
    "x_lin = np.linspace(0, 100, 101)\n",
    "#np.linspace(0, 100, 101)是指 0~100 劃分成 101 個刻度(含頭尾), 所也就是 0, 1, 2,...,100 這 101 個數\n",
    "\n",
    "y = (x_lin + np.random.randn(101) * 5) * w + b\n",
    "#np.random.randn() , 會隨機傳回標準常態分布的取樣值\n",
    "\n",
    "plt.plot(x_lin, y, 'b.', label = 'data points')\n",
    "plt.title(\"Assume we have data points\")\n",
    "plt.legend(loc = 2)\n",
    "plt.show()"
   ]
  },
  {
   "cell_type": "code",
   "execution_count": 4,
   "metadata": {},
   "outputs": [
    {
     "data": {
      "image/png": "[encoded data removed]",
      "text/plain": [
       "<Figure size 432x288 with 1 Axes>"
      ]
     },
     "metadata": {
      "needs_background": "light"
     },
     "output_type": "display_data"
    }
   ],
   "source": [
    "y_hat = x_lin * w + b\n",
    "plt.plot(x_lin, y, 'b.', label = 'data')\n",
    "plt.plot(x_lin, y_hat, 'r-', label = 'prediction')\n",
    "plt.title(\"Assume we have data points (And the prediction)\")\n",
    "plt.legend(loc = 2)\n",
    "plt.show()"
   ]
  },
  {
   "cell_type": "code",
   "execution_count": 5,
   "metadata": {},
   "outputs": [
    {
     "name": "stdout",
     "output_type": "stream",
     "text": [
      "The Mean squared error is 237.422\n",
      "The Mean absolute error is 12.049\n"
     ]
    }
   ],
   "source": [
    "# 執行 Function, 確認有沒有正常執行\n",
    "MSE = mean_squared_error(y, y_hat)\n",
    "MAE = mean_absolute_error(y, y_hat)\n",
    "print(\"The Mean squared error is %.3f\" % (MSE))\n",
    "print(\"The Mean absolute error is %.3f\" % (MAE))"
   ]
  }
 ],
 "metadata": {
  "anaconda-cloud": {},
  "kernelspec": {
   "display_name": "Python 3",
   "language": "python",
   "name": "python3"
  },
  "language_info": {
   "codemirror_mode": {
    "name": "ipython",
    "version": 3
   },
   "file_extension": ".py",
   "mimetype": "text/x-python",
   "name": "python",
   "nbconvert_exporter": "python",
   "pygments_lexer": "ipython3",
   "version": "3.7.4"
  }
 },
 "nbformat": 4,
 "nbformat_minor": 1
}
