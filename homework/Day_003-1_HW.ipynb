{
 "cells": [
  {
   "cell_type": "markdown",
   "metadata": {},
   "source": [
    "Day3-1 作業\n",
    "\n",
    "在小量的資料上，我們用眼睛就可以看得出來程式碼是否有跑出我們理想中的結果。請嘗試想像一個你需要的資料結構 (裡面的值是隨機的)，然後用程式碼範例的方法把它變成 DataFrame"
   ]
  },
  {
   "cell_type": "markdown",
   "metadata": {},
   "source": [
    "Ex: 想像一個 dataframe 有兩個欄位，一個是學生名字，一個是分數，求分數最高的學生"
   ]
  },
  {
   "cell_type": "code",
   "execution_count": 1,
   "metadata": {},
   "outputs": [
    {
     "name": "stdout",
     "output_type": "stream",
     "text": [
      "  名字         分數\n",
      "0  甲  41.477146\n",
      "1  乙  91.841692\n",
      "2  丙  41.430607\n",
      "3  丁  18.770325\n",
      "4  戊  16.965053\n"
     ]
    }
   ],
   "source": [
    "import pandas as pd\n",
    "import numpy as np\n",
    "\n",
    "name=['甲','乙','丙','丁','戊']\n",
    "\n",
    "grade=np.random.random(5)*100\n",
    "\n",
    "data = {'名字': name,\n",
    "        '分數':grade}\n",
    "\n",
    "\n",
    "data = pd.DataFrame(data)\n",
    "\n",
    "print(data)"
   ]
  },
  {
   "cell_type": "code",
   "execution_count": 2,
   "metadata": {
    "scrolled": true
   },
   "outputs": [
    {
     "name": "stdout",
     "output_type": "stream",
     "text": [
      "最高分的是 :  乙\n"
     ]
    }
   ],
   "source": [
    "#方法一\n",
    "print(\"最高分的是 : \",data['名字'][data['分數'].idxmax()])"
   ]
  },
  {
   "cell_type": "code",
   "execution_count": 3,
   "metadata": {},
   "outputs": [
    {
     "name": "stdout",
     "output_type": "stream",
     "text": [
      "最高分的是 :  1    乙\n",
      "Name: 名字, dtype: object\n"
     ]
    }
   ],
   "source": [
    "#方法二\n",
    "print(\"最高分的是 : \",data.loc[data['分數']==data['分數'].max()]['名字'])"
   ]
  }
 ],
 "metadata": {
  "kernelspec": {
   "display_name": "Python 3",
   "language": "python",
   "name": "python3"
  },
  "language_info": {
   "codemirror_mode": {
    "name": "ipython",
    "version": 3
   },
   "file_extension": ".py",
   "mimetype": "text/x-python",
   "name": "python",
   "nbconvert_exporter": "python",
   "pygments_lexer": "ipython3",
   "version": "3.7.3"
  }
 },
 "nbformat": 4,
 "nbformat_minor": 1
}
