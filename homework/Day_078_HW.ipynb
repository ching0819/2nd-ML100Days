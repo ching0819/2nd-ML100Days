{
 "cells": [
  {
   "cell_type": "markdown",
   "metadata": {},
   "source": [
    "## Work\n",
    "1. 請嘗試將 preproc_x 替換成以每筆資料的 min/max 進行標準化至 -1 ~ 1 間，再進行訓練\n",
    "2. 請嘗試將 mlp 疊更深 (e.g 5~10 層)，進行訓練後觀察 learning curve 的走勢\n",
    "3. (optional) 請改用 GPU 進行訓練 (如果你有 GPU 的話)，比較使用 CPU 與 GPU 的訓練速度"
   ]
  },
  {
   "cell_type": "code",
   "execution_count": 1,
   "metadata": {},
   "outputs": [
    {
     "name": "stderr",
     "output_type": "stream",
     "text": [
      "'nvidia-smi' 不是內部或外部命令、可執行的程式或批次檔。\n"
     ]
    }
   ],
   "source": [
    "## \n",
    "\"\"\"\n",
    "Your code here (optional)\n",
    "確認硬體資源\n",
    "\"\"\"\n",
    "#Not using NVIDA gpu\n",
    "!nvidia-smi"
   ]
  },
  {
   "cell_type": "code",
   "execution_count": 2,
   "metadata": {},
   "outputs": [
    {
     "name": "stderr",
     "output_type": "stream",
     "text": [
      "Using TensorFlow backend.\n"
     ]
    }
   ],
   "source": [
    "import os\n",
    "import keras\n",
    "from sklearn.preprocessing import StandardScaler\n",
    "import numpy as np\n",
    "\n",
    "# 請嘗試設定 GPU：os.environ\n",
    "os.environ[\"CUDA_VISIBLE_DEVICES\"] = \"\""
   ]
  },
  {
   "cell_type": "code",
   "execution_count": 3,
   "metadata": {},
   "outputs": [],
   "source": [
    "train, test = keras.datasets.cifar10.load_data()"
   ]
  },
  {
   "cell_type": "code",
   "execution_count": 4,
   "metadata": {},
   "outputs": [],
   "source": [
    "## 資料前處理\n",
    "\"\"\"\n",
    "Your code here\n",
    "\"\"\"\n",
    "def preproc_x(x, flatten = True):\n",
    "    if flatten == True:\n",
    "        x = x.reshape((len(x), -1))\n",
    "    #normalize to -1 & 1\n",
    "    xmin = np.min(x)\n",
    "    xmax = np.max(x)\n",
    "    x = -1 + 2.0 * (x - xmin) / (xmax - xmin)\n",
    "    return x\n",
    "\n",
    "def preproc_y(y,num_classes = 10):\n",
    "    y = keras.utils.to_categorical(y,num_classes)\n",
    "    return y"
   ]
  },
  {
   "cell_type": "code",
   "execution_count": 5,
   "metadata": {},
   "outputs": [],
   "source": [
    "x_train, y_train = train\n",
    "x_test, y_test = test\n",
    "\n",
    "# Preproc the inputs\n",
    "x_train = preproc_x(x_train)\n",
    "x_test = preproc_x(x_test)\n",
    "\n",
    "# Preprc the outputs\n",
    "y_train = preproc_y(y_train)\n",
    "y_test = preproc_y(y_test)"
   ]
  },
  {
   "cell_type": "code",
   "execution_count": 6,
   "metadata": {},
   "outputs": [],
   "source": [
    "\"\"\"Code Here\n",
    "建立你的神經網路\n",
    "\"\"\"\n",
    "\n",
    "def build_mlp(input_shape, output_units = 10, num_neurons = [512,512,256,256,128,128]):\n",
    "    \n",
    "    input_layer = keras.layers.Input(input_shape)\n",
    "    for i,n_units in enumerate(num_neurons):\n",
    "        \n",
    "        if i == 0:\n",
    "            x = keras.layers.Dense(units = n_units, activation = 'relu')(input_layer)\n",
    "        else:\n",
    "            x = keras.layers.Dense(units = n_units, activation = 'relu')(x)\n",
    "    \n",
    "    output_layer = keras.layers.Dense(units = output_units, activation = 'softmax')(x)\n",
    "    model = keras.models.Model(inputs = [input_layer], outputs = [output_layer])\n",
    "    \n",
    "    return model"
   ]
  },
  {
   "cell_type": "code",
   "execution_count": 7,
   "metadata": {},
   "outputs": [
    {
     "name": "stderr",
     "output_type": "stream",
     "text": [
      "WARNING: Logging before flag parsing goes to stderr.\n",
      "W1117 17:55:26.424571  6332 deprecation_wrapper.py:119] From D:\\Anaconda3\\lib\\site-packages\\keras\\backend\\tensorflow_backend.py:74: The name tf.get_default_graph is deprecated. Please use tf.compat.v1.get_default_graph instead.\n",
      "\n",
      "W1117 17:55:28.918416  6332 deprecation_wrapper.py:119] From D:\\Anaconda3\\lib\\site-packages\\keras\\backend\\tensorflow_backend.py:517: The name tf.placeholder is deprecated. Please use tf.compat.v1.placeholder instead.\n",
      "\n",
      "W1117 17:55:29.442164  6332 deprecation_wrapper.py:119] From D:\\Anaconda3\\lib\\site-packages\\keras\\backend\\tensorflow_backend.py:4138: The name tf.random_uniform is deprecated. Please use tf.random.uniform instead.\n",
      "\n"
     ]
    },
    {
     "name": "stdout",
     "output_type": "stream",
     "text": [
      "_________________________________________________________________\n",
      "Layer (type)                 Output Shape              Param #   \n",
      "=================================================================\n",
      "input_1 (InputLayer)         (None, 3072)              0         \n",
      "_________________________________________________________________\n",
      "dense_1 (Dense)              (None, 512)               1573376   \n",
      "_________________________________________________________________\n",
      "dense_2 (Dense)              (None, 512)               262656    \n",
      "_________________________________________________________________\n",
      "dense_3 (Dense)              (None, 256)               131328    \n",
      "_________________________________________________________________\n",
      "dense_4 (Dense)              (None, 256)               65792     \n",
      "_________________________________________________________________\n",
      "dense_5 (Dense)              (None, 128)               32896     \n",
      "_________________________________________________________________\n",
      "dense_6 (Dense)              (None, 128)               16512     \n",
      "_________________________________________________________________\n",
      "dense_7 (Dense)              (None, 10)                1290      \n",
      "=================================================================\n",
      "Total params: 2,083,850\n",
      "Trainable params: 2,083,850\n",
      "Non-trainable params: 0\n",
      "_________________________________________________________________\n"
     ]
    }
   ],
   "source": [
    "model = build_mlp(x_train.shape[1:])\n",
    "model.summary()"
   ]
  },
  {
   "cell_type": "code",
   "execution_count": 8,
   "metadata": {},
   "outputs": [],
   "source": [
    "## 超參數設定\n",
    "LEARNING_RATE = 0.001\n",
    "EPOCHS = 20\n",
    "BATCH_SIZE = 128"
   ]
  },
  {
   "cell_type": "code",
   "execution_count": 9,
   "metadata": {},
   "outputs": [
    {
     "name": "stderr",
     "output_type": "stream",
     "text": [
      "W1117 17:55:30.512837  6332 deprecation_wrapper.py:119] From D:\\Anaconda3\\lib\\site-packages\\keras\\optimizers.py:790: The name tf.train.Optimizer is deprecated. Please use tf.compat.v1.train.Optimizer instead.\n",
      "\n",
      "W1117 17:55:30.635419  6332 deprecation_wrapper.py:119] From D:\\Anaconda3\\lib\\site-packages\\keras\\backend\\tensorflow_backend.py:3295: The name tf.log is deprecated. Please use tf.math.log instead.\n",
      "\n"
     ]
    }
   ],
   "source": [
    "optimizer = keras.optimizers.Adam(lr=LEARNING_RATE)\n",
    "model.compile(loss=\"categorical_crossentropy\", metrics=[\"accuracy\"], optimizer=optimizer)"
   ]
  },
  {
   "cell_type": "code",
   "execution_count": 10,
   "metadata": {},
   "outputs": [
    {
     "name": "stderr",
     "output_type": "stream",
     "text": [
      "W1117 17:55:32.220560  6332 deprecation.py:323] From D:\\Anaconda3\\lib\\site-packages\\tensorflow\\python\\ops\\math_grad.py:1250: add_dispatch_support.<locals>.wrapper (from tensorflow.python.ops.array_ops) is deprecated and will be removed in a future version.\n",
      "Instructions for updating:\n",
      "Use tf.where in 2.0, which has the same broadcast rule as np.where\n",
      "W1117 17:55:32.281520  6332 deprecation_wrapper.py:119] From D:\\Anaconda3\\lib\\site-packages\\keras\\backend\\tensorflow_backend.py:986: The name tf.assign_add is deprecated. Please use tf.compat.v1.assign_add instead.\n",
      "\n"
     ]
    },
    {
     "name": "stdout",
     "output_type": "stream",
     "text": [
      "Train on 50000 samples, validate on 10000 samples\n",
      "Epoch 1/20\n",
      "50000/50000 [==============================] - 21s 423us/step - loss: 1.7045 - acc: 0.3899 - val_loss: 1.5152 - val_acc: 0.4612\n",
      "Epoch 2/20\n",
      "50000/50000 [==============================] - 16s 314us/step - loss: 1.4764 - acc: 0.4745 - val_loss: 1.4398 - val_acc: 0.4833\n",
      "Epoch 3/20\n",
      "50000/50000 [==============================] - 16s 315us/step - loss: 1.3559 - acc: 0.5176 - val_loss: 1.4029 - val_acc: 0.5079\n",
      "Epoch 4/20\n",
      "50000/50000 [==============================] - 16s 327us/step - loss: 1.2534 - acc: 0.5564 - val_loss: 1.3813 - val_acc: 0.5188\n",
      "Epoch 5/20\n",
      "50000/50000 [==============================] - 17s 330us/step - loss: 1.1732 - acc: 0.5844 - val_loss: 1.3743 - val_acc: 0.5259\n",
      "Epoch 6/20\n",
      "50000/50000 [==============================] - 17s 338us/step - loss: 1.0925 - acc: 0.6135 - val_loss: 1.3774 - val_acc: 0.5288\n",
      "Epoch 7/20\n",
      "50000/50000 [==============================] - 17s 339us/step - loss: 1.0140 - acc: 0.6378 - val_loss: 1.3872 - val_acc: 0.5300\n",
      "Epoch 8/20\n",
      "50000/50000 [==============================] - 17s 344us/step - loss: 0.9403 - acc: 0.6638 - val_loss: 1.3854 - val_acc: 0.5434\n",
      "Epoch 9/20\n",
      "50000/50000 [==============================] - 17s 343us/step - loss: 0.8652 - acc: 0.6901 - val_loss: 1.4192 - val_acc: 0.5405\n",
      "Epoch 10/20\n",
      "50000/50000 [==============================] - 17s 343us/step - loss: 0.7960 - acc: 0.7160 - val_loss: 1.4322 - val_acc: 0.5409\n",
      "Epoch 11/20\n",
      "50000/50000 [==============================] - 17s 344us/step - loss: 0.7190 - acc: 0.7403 - val_loss: 1.5774 - val_acc: 0.5266\n",
      "Epoch 12/20\n",
      "50000/50000 [==============================] - 17s 342us/step - loss: 0.6616 - acc: 0.7639 - val_loss: 1.6285 - val_acc: 0.5364\n",
      "Epoch 13/20\n",
      "50000/50000 [==============================] - 18s 355us/step - loss: 0.5990 - acc: 0.7852 - val_loss: 1.6765 - val_acc: 0.5384\n",
      "Epoch 14/20\n",
      "50000/50000 [==============================] - 19s 375us/step - loss: 0.5537 - acc: 0.8041 - val_loss: 1.7877 - val_acc: 0.5377\n",
      "Epoch 15/20\n",
      "50000/50000 [==============================] - 18s 368us/step - loss: 0.4911 - acc: 0.8258 - val_loss: 1.9236 - val_acc: 0.5323\n",
      "Epoch 16/20\n",
      "50000/50000 [==============================] - 18s 367us/step - loss: 0.4505 - acc: 0.8426 - val_loss: 1.8682 - val_acc: 0.5360\n",
      "Epoch 17/20\n",
      "50000/50000 [==============================] - 17s 350us/step - loss: 0.4146 - acc: 0.8557 - val_loss: 2.0604 - val_acc: 0.5255\n",
      "Epoch 18/20\n",
      "50000/50000 [==============================] - 18s 354us/step - loss: 0.3833 - acc: 0.8652 - val_loss: 2.1025 - val_acc: 0.5333\n",
      "Epoch 19/20\n",
      "50000/50000 [==============================] - 17s 349us/step - loss: 0.3530 - acc: 0.8757 - val_loss: 2.2298 - val_acc: 0.5351\n",
      "Epoch 20/20\n",
      "50000/50000 [==============================] - 18s 354us/step - loss: 0.3208 - acc: 0.8880 - val_loss: 2.3120 - val_acc: 0.5255\n"
     ]
    },
    {
     "data": {
      "text/plain": [
       "<keras.callbacks.History at 0x2345096a588>"
      ]
     },
     "execution_count": 10,
     "metadata": {},
     "output_type": "execute_result"
    }
   ],
   "source": [
    "model.fit(x_train, y_train, \n",
    "          epochs=EPOCHS, \n",
    "          batch_size=BATCH_SIZE, \n",
    "          validation_data=(x_test, y_test), \n",
    "          shuffle=True)"
   ]
  },
  {
   "cell_type": "code",
   "execution_count": 11,
   "metadata": {},
   "outputs": [
    {
     "data": {
      "text/plain": [
       "<Figure size 640x480 with 1 Axes>"
      ]
     },
     "metadata": {},
     "output_type": "display_data"
    },
    {
     "data": {
      "text/plain": [
       "<Figure size 640x480 with 1 Axes>"
      ]
     },
     "metadata": {},
     "output_type": "display_data"
    }
   ],
   "source": [
    "import matplotlib.pyplot as plt\n",
    "\n",
    "\n",
    "train_loss = model.history.history[\"loss\"]\n",
    "valid_loss = model.history.history[\"val_loss\"]\n",
    "\n",
    "train_acc = model.history.history[\"acc\"]\n",
    "valid_acc = model.history.history[\"val_acc\"]\n",
    "\n",
    "plt.plot(range(len(train_loss)), train_loss, label=\"train loss\")\n",
    "plt.plot(range(len(valid_loss)), valid_loss, label=\"valid loss\")\n",
    "plt.legend()\n",
    "plt.title(\"Loss\")\n",
    "plt.show()\n",
    "\n",
    "plt.plot(range(len(train_acc)), train_acc, label=\"train accuracy\")\n",
    "plt.plot(range(len(valid_acc)), valid_acc, label=\"valid accuracy\")\n",
    "plt.legend()\n",
    "plt.title(\"Accuracy\")\n",
    "plt.show()"
   ]
  }
 ],
 "metadata": {
  "kernelspec": {
   "display_name": "Python 3",
   "language": "python",
   "name": "python3"
  },
  "language_info": {
   "codemirror_mode": {
    "name": "ipython",
    "version": 3
   },
   "file_extension": ".py",
   "mimetype": "text/x-python",
   "name": "python",
   "nbconvert_exporter": "python",
   "pygments_lexer": "ipython3",
   "version": "3.7.3"
  }
 },
 "nbformat": 4,
 "nbformat_minor": 2
}
